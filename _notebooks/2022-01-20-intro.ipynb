{
 "cells": [
  {
   "cell_type": "markdown",
   "id": "93846c19-7329-4150-8709-9c9cca772d28",
   "metadata": {},
   "source": [
    "# 2022/01/20/THU"
   ]
  },
  {
   "cell_type": "markdown",
   "id": "057dcac9-a6ff-4ef2-8ecc-fcd617d1ff75",
   "metadata": {},
   "source": [
    "> ### 텍스트 사전 준비 작업(텍스트 전처리) - 텍스트 정규화\n",
    " 텍스트 자체를 feature로 만들 순 없다. 이를 위해 사전에 텍스트를 가공하는 준비 작업이 필요하다. 텍스트 정규화는 텍스트를 머신러닝 알고리즘이나 NLP 애플리케이션에 입력 데이터로 사용하기 위해 클렌징, 정제, 토큰화, 어근화 등의 다양한 텍스트 데이터의 사전 작업을 수행하는 것을 의미한다. 텍스트 분석은 이러한 텍스트 정규화 작업이 매우 중요하다. 텍스트 정규화 작업에는 클렌징, 토큰화, 필터링, 스톱 워드 제거, 철자 수정, Stemming, Lemmatization 등이 있다. "
   ]
  },
  {
   "cell_type": "markdown",
   "id": "c0d93539-5241-41e7-8770-b03aceb0bb07",
   "metadata": {},
   "source": [
    "- 클렌징 : 텍스트에서 분석에 오히려 방해가 되는 불필요한 문자, 기호 등을 사전에 제거하는 작업니다. 예를 들어 HTML, XML 태그나 특정 기호 등을 사전에 제거한다. \n",
    "- 텍스트 토큰화 : 토큰화의 유형은 문서에서 문장을 분리하는 문장 토큰화와 문장에서 단어를 토큰으로 분리하는 단어 토큰화로 나눌 수 있다. NLTK는 이를 위해 다양한 API를 제공한다.\n",
    "   - 문장 토큰화 : 문장의 마침표(.), 개행문자(\\n), 등 문장의 마지막을 뜻하는 기호에 따라 분리하는 것이 일반적이다. 또한 정규 표현식에 따른 문장 토큰화도 가능하다. "
   ]
  },
  {
   "cell_type": "markdown",
   "id": "63a34a74-ecb4-48a0-949a-62bee38767c9",
   "metadata": {},
   "source": [
    "- 다음은 3개의 문장으로 이루어진 텍스트 문서를 문장으로 각각 분리하는 예제이다. "
   ]
  },
  {
   "cell_type": "code",
   "execution_count": 5,
   "id": "091fe224-8809-4f94-b0c1-c4d956138a80",
   "metadata": {},
   "outputs": [
    {
     "name": "stdout",
     "output_type": "stream",
     "text": [
      "<class 'list'> 3\n",
      "['The Matrix is everywhere its all around us, here even in this room.', 'You can see it out your window or on your television.', 'You feel it when you go to work, or go to church or pay your taxes.']\n"
     ]
    },
    {
     "name": "stderr",
     "output_type": "stream",
     "text": [
      "[nltk_data] Downloading package punkt to\n",
      "[nltk_data]     C:\\Users\\ehfus\\AppData\\Roaming\\nltk_data...\n",
      "[nltk_data]   Package punkt is already up-to-date!\n"
     ]
    }
   ],
   "source": [
    "from nltk import sent_tokenize\n",
    "import nltk\n",
    "nltk.download('punkt')\n",
    "text_sample = 'The Matrix is everywhere its all around us, here even in this room.  \\\n",
    "              You can see it out your window or on your television. \\\n",
    "               You feel it when you go to work, or go to church or pay your taxes.'\n",
    "sentences = sent_tokenize(text=text_sample)\n",
    "print(type(sentences),len(sentences))\n",
    "print(sentences)"
   ]
  },
  {
   "cell_type": "markdown",
   "id": "661b3f0b-4012-4edb-b472-f6014ece7e3b",
   "metadata": {},
   "source": [
    "- sent_tokenize()가 반환하는 것은 각각의 문장으로 구성된 list 객체이다. 반환된 list 객체가 3개의 문장으로 된 문자열을 가지고 있는 것을 알 수 있다. "
   ]
  },
  {
   "cell_type": "markdown",
   "id": "540f80bf-b280-47a8-9af8-a5fb92b5718c",
   "metadata": {},
   "source": [
    "- 단어 토큰화 : 문장을 단어로 토큰화하는 것이다. 기본적으로 공백, 콤마, 마침표, 개행문자(\\n) 등으로 단어를 분리하지만, 정규 표현식을 이용해 다양한 유형으로 토큰화를 수행할 수 있다. \n",
    "- 마침표나 개행문자와 같이 문장을 분리하는 구분자를 이용해 단어를 토큰화할 수 있으므로 Bag Of Word와 같이 단어의 순서가 중요하지 않은 경우 문장 토큰화를 사용하지 않고 단어 토큰화만 사용해도 충분하다. 일반적으로 문장 토큰화는 각 문장이 가지는 시맨틱(Ssemantic : 의미의, 의미론적인)적인 의미가 중요한 요소로 사용될 때 사용한다.\n",
    "- 단어 토큰화를 수행해보자"
   ]
  },
  {
   "cell_type": "code",
   "execution_count": 6,
   "id": "711e7a4a-5759-4e3f-ab4d-57f034575b67",
   "metadata": {},
   "outputs": [
    {
     "name": "stdout",
     "output_type": "stream",
     "text": [
      "<class 'list'> 15\n",
      "['The', 'Matrix', 'is', 'everywhere', 'its', 'all', 'around', 'us', ',', 'here', 'even', 'in', 'this', 'room', '.']\n"
     ]
    }
   ],
   "source": [
    "from nltk import word_tokenize\n",
    "\n",
    "sentence = \"The Matrix is everywhere its all around us, here even in this room.\"\n",
    "words = word_tokenize(sentence)\n",
    "print(type(words), len(words))\n",
    "print(words)"
   ]
  },
  {
   "cell_type": "markdown",
   "id": "09acd4d5-7964-4164-be46-18ca9c037b08",
   "metadata": {},
   "source": [
    "- 이번에는 sent_tokenize와 word_tokenize를 조합해 문서에 대해서 모든 단어를 토큰화해 보자. 이전 예제에서 선언된 3개의 문장으로 된 text_sample을 문장별로 단어 토큰화를 적용한다. 이를 위해 먼저 문장으로 나누고, 개별 문장을 다시 단어로 토큰화하는 함수를 생성해보자"
   ]
  },
  {
   "cell_type": "code",
   "execution_count": 7,
   "id": "20002479-0967-48c8-8a74-9d2a6b95799f",
   "metadata": {},
   "outputs": [
    {
     "name": "stdout",
     "output_type": "stream",
     "text": [
      "<class 'list'> 3\n",
      "[['The', 'Matrix', 'is', 'everywhere', 'its', 'all', 'around', 'us', ',', 'here', 'even', 'in', 'this', 'room', '.'], ['You', 'can', 'see', 'it', 'out', 'your', 'window', 'or', 'on', 'your', 'television', '.'], ['You', 'feel', 'it', 'when', 'you', 'go', 'to', 'work', ',', 'or', 'go', 'to', 'church', 'or', 'pay', 'your', 'taxes', '.']]\n"
     ]
    }
   ],
   "source": [
    "from nltk import word_tokenize, sent_tokenize\n",
    "\n",
    "#여러개의 문장으로 된 입력 데이터를 문장별로 단어 토큰화 만드는 함수 생성\n",
    "def tokenize_text(text):\n",
    "    \n",
    "    # 문장별로 분리 토큰\n",
    "    sentences = sent_tokenize(text)\n",
    "    # 분리된 문장별 단어 토큰화\n",
    "    word_tokens = [word_tokenize(sentence) for sentence in sentences]\n",
    "    return word_tokens\n",
    "\n",
    "#여러 문장들에 대해 문장별 단어 토큰화 수행. \n",
    "word_tokens = tokenize_text(text_sample)\n",
    "print(type(word_tokens),len(word_tokens))\n",
    "print(word_tokens)"
   ]
  },
  {
   "cell_type": "markdown",
   "id": "998a58a8-e4b1-4d68-b0c1-27d6f9e47d96",
   "metadata": {},
   "source": [
    "- 3개 문장은 문장별로 먼저 토큰화했기 때문에 word_tokens 변수는 3개의 리스트 객체를 내포하는 리스트이다. 그리고 내포된 이 3개의 개별 리스트 객체는 각각 문장별로 토큰화된 단어를 요소로 가지고 있다. \n",
    "- 문장을 단어별로 하나씩 토큰화 할 경우 문맥적인 의미는 무시될 수밖에 없다. 이러한 문제를 조금이라도 해결해 보고자 도입 된 것이 n-gram이다. n-gram은 연속된 n개의 단어를 하나의 토큰화 단위로 분리해 내는 것이다. n개 단어 크기 윈도우를 만들어 문장의 처음부터 오른쪽으로 움직이면서 토큰화를 수행한다. \n",
    "- 예를 들어 \"Agent Smith knocks the door\"를 2-gram(bigram)으로 만들면 (Agent,Smith),(knocks,the),(the,door)와 같이 연속적으로 2개의 단어들을 순차적으로 이동하면서 단어들을 토큰화 한다."
   ]
  },
  {
   "cell_type": "code",
   "execution_count": 9,
   "id": "28f32886-841b-470c-95de-710588d282b5",
   "metadata": {},
   "outputs": [
    {
     "name": "stdout",
     "output_type": "stream",
     "text": [
      "[('The', 'Matrix'), ('Matrix', 'is'), ('is', 'everywhere'), ('everywhere', 'its'), ('its', 'all'), ('all', 'around'), ('around', 'us'), ('us', ','), (',', 'here'), ('here', 'even'), ('even', 'in'), ('in', 'this'), ('this', 'room'), ('room', '.')]\n"
     ]
    }
   ],
   "source": [
    "from nltk import ngrams\n",
    "\n",
    "sentence = \"The Matrix is everywhere its all around us, here even in this room.\"\n",
    "words = word_tokenize(sentence)\n",
    "\n",
    "all_ngrams = ngrams(words, 2)\n",
    "ngrams = [ngram for ngram in all_ngrams]\n",
    "print(ngrams)"
   ]
  },
  {
   "cell_type": "markdown",
   "id": "3eb91728-fb4c-41d6-8dd4-57eb4bc3b4ad",
   "metadata": {},
   "source": [
    "- 스톱 워드 제거 : 스톱 워드는 분석에 큰 의미가 없는 단어를 지칭한다. 가령 영어에서 is,the,a,will 등 문장을 구성하는 필수 문법요소이지만 문맥적으로 큰 의미가 없는 단어가 이에 해당된다. 이 단어의 경우 문법적인 특성으로 인해 특히 빈번하게 텍스트에 나타나므로 이것들을 사전에 제거하지 않으면 그 빈번함으로 인해 오히려 중요한 단어로 인지될 수 있다. 따라서 이 의미 없는 단어를 제거하는 것이 중요한 전처리 작업이다. 언어별로 이러한 스톱 워드가 목록화 돼 있다. 스톱 워드 목록을 내려받아보자"
   ]
  },
  {
   "cell_type": "code",
   "execution_count": 11,
   "id": "4d3f6b94-21e8-41cc-ab04-0cd9d91a1377",
   "metadata": {},
   "outputs": [
    {
     "name": "stderr",
     "output_type": "stream",
     "text": [
      "[nltk_data] Downloading package stopwords to\n",
      "[nltk_data]     C:\\Users\\ehfus\\AppData\\Roaming\\nltk_data...\n",
      "[nltk_data]   Package stopwords is already up-to-date!\n"
     ]
    },
    {
     "data": {
      "text/plain": [
       "True"
      ]
     },
     "execution_count": 11,
     "metadata": {},
     "output_type": "execute_result"
    }
   ],
   "source": [
    "import nltk\n",
    "nltk.download('stopwords')"
   ]
  },
  {
   "cell_type": "markdown",
   "id": "07b6f4ff-d3ee-4ac8-839f-817bac832a95",
   "metadata": {},
   "source": [
    "- 그 중 20개만 확인해 보자"
   ]
  },
  {
   "cell_type": "code",
   "execution_count": 12,
   "id": "66f69fd6-66dc-4363-8db8-7088b23eb317",
   "metadata": {},
   "outputs": [
    {
     "name": "stdout",
     "output_type": "stream",
     "text": [
      "영어 stop words 갯수: 179\n",
      "['i', 'me', 'my', 'myself', 'we', 'our', 'ours', 'ourselves', 'you', \"you're\", \"you've\", \"you'll\", \"you'd\", 'your', 'yours', 'yourself', 'yourselves', 'he', 'him', 'his']\n"
     ]
    }
   ],
   "source": [
    "print('영어 stop words 갯수:',len(nltk.corpus.stopwords.words('english')))\n",
    "print(nltk.corpus.stopwords.words('english')[:20])"
   ]
  },
  {
   "cell_type": "markdown",
   "id": "2725b6b5-842e-4b16-9ab7-9f9426e4134c",
   "metadata": {},
   "source": [
    "- 위 예제에서 3개의 문장별로 단어를 토큰화해 생성된 word_tokens 리스트에 대해서 stopwords를 필터링으로 제거해 분석을 위한 의미 있는 단어만 추출해보자"
   ]
  },
  {
   "cell_type": "code",
   "execution_count": 13,
   "id": "84991465-3b88-495f-8874-3038e300e681",
   "metadata": {},
   "outputs": [
    {
     "name": "stdout",
     "output_type": "stream",
     "text": [
      "[['matrix', 'everywhere', 'around', 'us', ',', 'even', 'room', '.'], ['see', 'window', 'television', '.'], ['feel', 'go', 'work', ',', 'go', 'church', 'pay', 'taxes', '.']]\n"
     ]
    }
   ],
   "source": [
    "import nltk\n",
    "\n",
    "stopwords = nltk.corpus.stopwords.words('english')\n",
    "all_tokens = []\n",
    "# 위 예제의 3개의 문장별로 얻은 word_tokens list 에 대해 stop word 제거 Loop\n",
    "for sentence in word_tokens:\n",
    "    filtered_words=[]\n",
    "    # 개별 문장별로 tokenize된 sentence list에 대해 stop word 제거 Loop\n",
    "    for word in sentence:\n",
    "        #소문자로 모두 변환합니다. \n",
    "        word = word.lower()\n",
    "        # tokenize 된 개별 word가 stop words 들의 단어에 포함되지 않으면 word_tokens에 추가\n",
    "        if word not in stopwords:\n",
    "            filtered_words.append(word)\n",
    "    all_tokens.append(filtered_words)\n",
    "    \n",
    "print(all_tokens)"
   ]
  },
  {
   "cell_type": "markdown",
   "id": "a606c8d6-fb5a-4e9d-b0ed-16114ac4f5fc",
   "metadata": {},
   "source": [
    "- is, this와 같은 스톱 워드가 필터링을 통해 제거됐음을 알 수 있다."
   ]
  },
  {
   "cell_type": "markdown",
   "id": "99f81d37-1998-4594-869d-ab591f2b85c7",
   "metadata": {},
   "source": [
    "- Stemming과 Lemmatization : 영어의 경우 과거/현재, 3인칭 단수 여부, 진행형 등 매우 많은 조건에 따라 원래 단어가 변화한다. 이런 경우에 대해서 문법적 또는 의미적으로 변화하는 단어의 원형을 찾는 과정을 일컫는다. 두 기능 모두 원형 단어를 찾는다는 목적은 유사하지만, Lemmatization이 Stemming보다 정교하며 의미론적인 기반에서 단어의 원형을 찾는다. 따라서 시간이 더 소요된다. "
   ]
  },
  {
   "cell_type": "code",
   "execution_count": 14,
   "id": "9e04034d-732f-422d-b275-08556ee1f800",
   "metadata": {},
   "outputs": [
    {
     "name": "stdout",
     "output_type": "stream",
     "text": [
      "work work work\n",
      "amus amus amus\n",
      "happy happiest\n",
      "fant fanciest\n"
     ]
    }
   ],
   "source": [
    "from nltk.stem import LancasterStemmer\n",
    "stemmer = LancasterStemmer()\n",
    "\n",
    "print(stemmer.stem('working'),stemmer.stem('works'),stemmer.stem('worked'))\n",
    "print(stemmer.stem('amusing'),stemmer.stem('amuses'),stemmer.stem('amused'))\n",
    "print(stemmer.stem('happier'),stemmer.stem('happiest'))\n",
    "print(stemmer.stem('fancier'),stemmer.stem('fanciest'))"
   ]
  },
  {
   "cell_type": "markdown",
   "id": "f931bfe8-59c7-46ee-bdac-c9ee9934ab62",
   "metadata": {},
   "source": [
    "- 비교적 간단한 형태인 work를 제외하고는 나머지 3가지 경우는 오류를 범하고 있음\n",
    "- 이번에는 WordNetLemmatizer를 이용해 Lemmatization을 수행해보자. 일반적으로 Lemmatization은 보다 정확한 원형 단어 추출을 위해 단어의 '품사'를 입력해줘야 한다. 동사의 경우 v 형용사의 경우 a를 입력해준다."
   ]
  },
  {
   "cell_type": "markdown",
   "id": "7a3345d9-49d4-4b3d-843b-580e9c76e14f",
   "metadata": {},
   "source": [
    "```python\n",
    "from nltk.stem import WordNetLemmatizer\n",
    "import nltk\n",
    "nltk.download('wordnet')\n",
    "\n",
    "lemma = WordNetLemmatizer()\n",
    "print(lemma.lemmatize('amusing','v'),lemma.lemmatize('amuses','v'),lemma.lemmatize('amused','v'))\n",
    "print(lemma.lemmatize('happier','a'),lemma.lemmatize('happiest','a'))\n",
    "print(lemma.lemmatize('fancier','a'),lemma.lemmatize('fanciest','a'))\n",
    "```"
   ]
  },
  {
   "cell_type": "markdown",
   "id": "b77ad86d-a881-4e5d-8b23-b6a0c367f3bc",
   "metadata": {},
   "source": [
    "- Stemmer보다 정확하게 원형 단어를 추출해줌을 알 수 있다."
   ]
  },
  {
   "cell_type": "markdown",
   "id": "909f4750-e3a9-4812-8bd2-43933b712d81",
   "metadata": {},
   "source": [
    "- Bag of Words - BOW : 문서가 가지는 모든 단어를 문맥이나 순서를 무시하고 일괄적으로 단어에 대해 빈도 값을 부여해 feature 값을 추출하는 모델이다. 이 모델의 장점을 쉽고 빠른 구축에 있다. 단순히 단어의 발생 횟수에 기반하고 있지만, 예상보다 문서의 특징을 잘 나타낼 수 있는 모델이어서 전통적으로 여러 분야에서 활용도가 높다. 하지만 문맥 의미 반영 부족이라던가 희소 행렬 문제등의 단점 등이 있다. (희소 행렬 : 대규모의 칼럼으로 구성된 행렬에서 대부분의 값이 0으로 채워지는 행렬을 희소 행렬 (Spare Matrix)이라고 한다. 이와는 반대로 대부분의 값이 0이 아닌 의미 있는 값으로 채워져 있는 행렬을 밀집 행렬(Dense Matirix)이라고 한다) 일반적으로 희소 행렬은 ML 알고리즘의 수행 시간과 예측 성능을 떨어뜨리기 때문에 희소 행렬을 위한 특별한 기법이 마련돼 있다. "
   ]
  },
  {
   "cell_type": "markdown",
   "id": "bf56d584-5a61-4ae6-8e61-54bd15c78074",
   "metadata": {},
   "source": [
    "- 머신러닝 알고리즘은 일반적으로 숫자형 feature를 데이터로 입력받아 동작하기 때문에 텍스트와 같은 데이터는 머신러닝 알고리즘에 바로 입력할 수 없다. 따라서 텍스트는 특정 의미를 가지는 숫자형 값인 벡터 값으로 변환해야 하는데, 이러한 변환을 feature 벡터화라고 한다. 예를 들어 각 문서의 텍스트를 단어로 추출해 feature로 할당하고 각 단어의 발생 빈도와 같은 값을 이 feature에 값으로 부여해 각 문서를 이 단어 feature의 발생 빈도 값으로 구성된 벡터로 만드는 기법이다. \n",
    "- BOW 모델에서 feature 벡터화를 수행한다는 것은 모든 문서에서 모든 단어를 칼럼 형태로 나열하고 각 문서에서 해당 단어의 횟수나 정규화된 빈도를 값으로 부여하는 데이터 세트 모델로 변경하는 것이다. 예를 들어 M 개의 텍스트 문서가 있고, 이 문서에서 모든 단어를 추출해 나열했을 때 N개의 단어가 있다고 가정하면 문ㅅ머의 feature 벡터화를 수행하면 M개의 문서는 각각 N개의 값이 할당된 feature 벡터 세트가 된다. 결과적으로는 M x N 개의 단어 feature로 이뤄진 행렬을 구성하게 된다. \n",
    "- 일반적으로 BOW의 feature 벡터화는 두 가지 방식이 있다.\n",
    "    - 카운트(count) 기반의 벡터화 : 단어 feature에 값을 부여할 때 각 문서에서 해당 단어가 나타나는 횟수, 즉, Count를 부여하는 경우를 카운트 벡터화라고 한다. 카운트 벡터화에서는 카운트 값이 높을수록 중요한 단어로 인식된다. 하지만 언어의 특성상 문장에서 자주 사용될 수 밖에 없는 단어까지 높은 값을 부여하게 되는데 이러한 문제를 보완하기 위해 아래와 같은 벡터화를 사용하게 된다.\n",
    "    - TF-IDF(Term Frequency - Inverse Document Frequency) 기반의 벡터화 : 개별 문서에서 자주 나타나는 단어에 높은 가중치를 주되, 모든 문서에서 전반적으로 나타나는 단어에 대해서는 페널티를 주는 방식으로 값을 부여한다. "
   ]
  },
  {
   "cell_type": "markdown",
   "id": "f1fe1698-6b7b-4d72-8b63-aacfe12ef673",
   "metadata": {},
   "source": [
    "- 보통 사이킷런의 CountVectorizer 클래스를 이용해 카운트 기반의 feature 여러 개의 문서로 구성된 텍스트의 feature 벡터화 방법은 다음과 같다. \n",
    "1. 영어의 경우 모든 문자를 소문자로 변경하는 등의 전처리 작업을 수행한다. \n",
    "2. default로 단어 기준으로 n_gram_range를 반영해 각 단어를 토큰화한다. \n",
    "3. 텍스트 정규화를 수행한다. "
   ]
  },
  {
   "cell_type": "markdown",
   "id": "c5922837-e334-459b-8c9c-e48974781e2f",
   "metadata": {},
   "source": [
    "- BOW 벡터화를 위한 희소 행렬\n",
    "  - 모든 문서에 있는 단어를 추춯해 이를 feature로 벡터화하는 방법은 필연적으로 많은 feature 칼럼을 만들 수 밖에 없다. 모든 문서에 있는 단어를 중복을 제거하고 feature로 만들면 일반적으로 수만 개에서 수십만 개의 단어가 만들어진다. 만일 n-gram을 (1,2)나 (1,3)으로 증가시키면 칼럼의 수는 더욱 증가할 수 밖에 없다. 그런데 이러한 대규모의 행렬이 생성되더라도 레코드의 각 문서가 가지는 단어의 수는 제한적이기 때문에이 행렬의 값은 대부분이 0을 차지할 수밖에 없다. 이처럼 대규모 행렬의 대부분의 값을 0이 차지하는 행렬을 가리켜 희소 행렬이라고 한다. BOW 형태를 가진 언어 모델의 feature 벡터화는 대부분 희소 행렬이다. \n",
    "  - 이 희소 행렬은 너무 많은 불필요한 0 값이 메모리 공간에 할당되어 메모리 공간이 많이 필요하며, 행렬의 크기가 커서 연산 시에도 데이터 액세스를 위한 시간이 많이 소모된다. 따라서 이러한 희소 행렬을 물리적으로 적은 메모리 공간을 차지할 수 있도록 변환해야 하는데 대표적인 방법으로 COO 형식와 CSR 형식이 있다.\n",
    "  - 일반적으로 큰 희소 행렬을 저장하고 계산을 수행하는 능력이 CSR 형식이 더 뛰어나기 때문에 CSR을 많이 사용한다. 먼저 COO 방식부터 보자"
   ]
  },
  {
   "cell_type": "markdown",
   "id": "feb403b6-f114-4ef7-ac21-788e91464c76",
   "metadata": {},
   "source": [
    "- 희소 행렬 처리 中 COO 형식\n",
    "      COO(coordinate : 좌표) 형식을 0이 아닌 데이터만 별도의 데이터 배열에 저장하고 그 데이터가 가리키는 행과 열의 위치를 별도의 배열로 저장하는 방식이다. 예를 들어 [[3,0,1],[0,2,0]]과 같은 2차원 데이터가 있다고 가정하자. 0이 아닌 데이터는 [3,1,2]이며 0이 아닌 데이터가 있는 위치를 (row,col) 형태로 표시하면 (0,0),(0,2),(1,1)가 된다. 로우와 칼럼을 별도의 배열로 저장하면 로우는 [0,0,1]이고 칼럼은 [0,2,1]이다. 파이썬 세계에서는 희소 행렬 변환을 위해서 주로 Scipy를 이용한다. 사이파이의 sparse 패키지는 희소 행렬 변환을 위한 다양한 모듈을 제공한다. "
   ]
  },
  {
   "cell_type": "code",
   "execution_count": 20,
   "id": "a4068236-a825-4788-bc99-95cd4cf2124f",
   "metadata": {},
   "outputs": [
    {
     "name": "stdout",
     "output_type": "stream",
     "text": [
      "<class 'scipy.sparse.coo.coo_matrix'>\n",
      "  (0, 0)\t3\n",
      "  (0, 2)\t1\n",
      "  (1, 1)\t2\n",
      "<class 'numpy.ndarray'> \n",
      " [[3 0 1]\n",
      " [0 2 0]]\n"
     ]
    }
   ],
   "source": [
    "import numpy as np\n",
    "dense = np.array( [ [ 3, 0, 1 ], \n",
    "                    [0, 2, 0 ] ] )\n",
    "\n",
    "from scipy import sparse\n",
    "# 0 이 아닌 데이터 추출\n",
    "data = np.array([3,1,2])\n",
    "# 행 위치와 열 위치를 각각 array로 생성 \n",
    "row_pos = np.array([0,0,1])\n",
    "col_pos = np.array([0,2,1])\n",
    "\n",
    "# sparse 패키지의 coo_matrix를 이용하여 COO 형식으로 희소 행렬 생성\n",
    "sparse_coo = sparse.coo_matrix((data, (row_pos,col_pos)))\n",
    "print(type(sparse_coo))\n",
    "print(sparse_coo)\n",
    "dense01=sparse_coo.toarray()\n",
    "print(type(dense01),\"\\n\", dense01)"
   ]
  },
  {
   "cell_type": "markdown",
   "id": "9816edb0-39a3-489f-94e7-fdc4cf9a0ade",
   "metadata": {},
   "source": [
    "- 희소 행렬 : CSR(Compressed Sparse Row)형식은 COO 형식이 행과 열의 위치를 나타내기 위해서 반복적인 위치 데이터를 사용해야 하는 문제점을 해결한 방식이다. 자세한 내용은 택의 484p를 참고."
   ]
  },
  {
   "cell_type": "code",
   "execution_count": 21,
   "id": "2b463a2d-9ce9-4645-afcb-b3b93f967036",
   "metadata": {},
   "outputs": [
    {
     "name": "stdout",
     "output_type": "stream",
     "text": [
      "COO 변환된 데이터가 제대로 되었는지 다시 Dense로 출력 확인\n",
      "[[0 0 1 0 0 5]\n",
      " [1 4 0 3 2 5]\n",
      " [0 6 0 3 0 0]\n",
      " [2 0 0 0 0 0]\n",
      " [0 0 0 7 0 8]\n",
      " [1 0 0 0 0 0]]\n",
      "CSR 변환된 데이터가 제대로 되었는지 다시 Dense로 출력 확인\n",
      "[[0 0 1 0 0 5]\n",
      " [1 4 0 3 2 5]\n",
      " [0 6 0 3 0 0]\n",
      " [2 0 0 0 0 0]\n",
      " [0 0 0 7 0 8]\n",
      " [1 0 0 0 0 0]]\n"
     ]
    }
   ],
   "source": [
    "from scipy import sparse\n",
    "\n",
    "dense2 = np.array([[0,0,1,0,0,5],\n",
    "             [1,4,0,3,2,5],\n",
    "             [0,6,0,3,0,0],\n",
    "             [2,0,0,0,0,0],\n",
    "             [0,0,0,7,0,8],\n",
    "             [1,0,0,0,0,0]])\n",
    "\n",
    "# 0 이 아닌 데이터 추출\n",
    "data2 = np.array([1, 5, 1, 4, 3, 2, 5, 6, 3, 2, 7, 8, 1])\n",
    "\n",
    "# 행 위치와 열 위치를 각각 array로 생성 \n",
    "row_pos = np.array([0, 0, 1, 1, 1, 1, 1, 2, 2, 3, 4, 4, 5])\n",
    "col_pos = np.array([2, 5, 0, 1, 3, 4, 5, 1, 3, 0, 3, 5, 0])\n",
    "\n",
    "# COO 형식으로 변환 \n",
    "sparse_coo = sparse.coo_matrix((data2, (row_pos,col_pos)))\n",
    "\n",
    "# 행 위치 배열의 고유한 값들의 시작 위치 인덱스를 배열로 생성\n",
    "row_pos_ind = np.array([0, 2, 7, 9, 10, 12, 13])\n",
    "\n",
    "# CSR 형식으로 변환 \n",
    "sparse_csr = sparse.csr_matrix((data2, col_pos, row_pos_ind))\n",
    "\n",
    "print('COO 변환된 데이터가 제대로 되었는지 다시 Dense로 출력 확인')\n",
    "print(sparse_coo.toarray())\n",
    "print('CSR 변환된 데이터가 제대로 되었는지 다시 Dense로 출력 확인')\n",
    "print(sparse_csr.toarray())"
   ]
  },
  {
   "cell_type": "markdown",
   "id": "fb2b8615-54a1-4b6a-8f5c-8865040c15d8",
   "metadata": {},
   "source": [
    "- 실제 사용 시에는 다음과 같이 밀집 행렬을 생성 파라미터로 입력하면 COO나 CSR 희소 행렬로 생성한다. "
   ]
  },
  {
   "cell_type": "code",
   "execution_count": 22,
   "id": "050ffd77-46b2-4720-b1ed-a2ab789463a4",
   "metadata": {},
   "outputs": [],
   "source": [
    "dense3 = np.array([[0,0,1,0,0,5],\n",
    "             [1,4,0,3,2,5],\n",
    "             [0,6,0,3,0,0],\n",
    "             [2,0,0,0,0,0],\n",
    "             [0,0,0,7,0,8],\n",
    "             [1,0,0,0,0,0]])\n",
    "\n",
    "coo = sparse.coo_matrix(dense3)\n",
    "csr = sparse.csr_matrix(dense3)"
   ]
  }
 ],
 "metadata": {
  "kernelspec": {
   "display_name": "Python 3 (ipykernel)",
   "language": "python",
   "name": "python3"
  },
  "language_info": {
   "codemirror_mode": {
    "name": "ipython",
    "version": 3
   },
   "file_extension": ".py",
   "mimetype": "text/x-python",
   "name": "python",
   "nbconvert_exporter": "python",
   "pygments_lexer": "ipython3",
   "version": "3.8.11"
  }
 },
 "nbformat": 4,
 "nbformat_minor": 5
}
