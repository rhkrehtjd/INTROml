{
 "cells": [
  {
   "cell_type": "markdown",
   "id": "a229b0b2-c845-49bc-a7be-db9f5ee1918b",
   "metadata": {},
   "source": [
    "# 2022/01/02/SUN"
   ]
  },
  {
   "cell_type": "markdown",
   "id": "b2485ffa-102c-467a-a88e-41b1e849c0a2",
   "metadata": {},
   "source": [
    "> ### ***`데이터 전처리`***"
   ]
  },
  {
   "cell_type": "markdown",
   "id": "f89c4a25-920b-405e-8fe5-5d6beaeab0a8",
   "metadata": {},
   "source": [
    "- 데이터 인코딩\n",
    "      - 레이블 인코딩 "
   ]
  },
  {
   "cell_type": "code",
   "execution_count": 10,
   "id": "7d4c08cf-fc5f-4546-b082-51064bdaa2e9",
   "metadata": {},
   "outputs": [
    {
     "name": "stdout",
     "output_type": "stream",
     "text": [
      "인코딩 변환값:  [0 1 4 5 3 3 2 2]\n",
      "----------------------------------------\n",
      "인코딩 클래스:  ['TV' '냉장고' '믹서' '선풍기' '전자레인지' '컴퓨터']\n",
      "차례대로 0부터 5까지 부여됨\n",
      "----------------------------------------\n",
      "디코딩 원본값:  ['TV' '전자레인지' '컴퓨터' '컴퓨터' '냉장고' '냉장고' '믹서' 'TV']\n",
      "이렇게 원하는 인코딩 값의 리스트를 통해 디코딩 할 수 있다\n"
     ]
    }
   ],
   "source": [
    "from sklearn.preprocessing import LabelEncoder\n",
    "items=['TV','냉장고','전자레인지','컴퓨터','선풍기','선풍기','믹서','믹서']\n",
    "# LabelEncoder를 객체로 생성한 후, fit()과 transform()으로 레이블 인코딩 수행\n",
    "encoder = LabelEncoder() # 객체 생성\n",
    "encoder.fit(items)\n",
    "labels=encoder.transform(items)\n",
    "print('인코딩 변환값: ', labels)\n",
    "print('----------------------------------------')\n",
    "print('인코딩 클래스: ', encoder.classes_)\n",
    "print('차례대로 0부터 5까지 부여됨')\n",
    "print('----------------------------------------')\n",
    "print('디코딩 원본값: ',encoder.inverse_transform([0,4,5,5,1,1,2,0]))\n",
    "print('이렇게 원하는 인코딩 값의 리스트를 통해 디코딩 할 수 있다')"
   ]
  },
  {
   "cell_type": "markdown",
   "id": "3889751e-49a7-4f5c-8c00-b9236925b53d",
   "metadata": {},
   "source": [
    "`***주의***`\n",
    " \n",
    "레이블 인코딩이 1,2일때 특정 ML알고리즘에서 가중치가 더 부여되거나 더 중요하게 인식할 가능성이 발생함. 하지만 단순 인코딩 숫자이기에 이러한 현상은 피해야함. 따라서 이러한 레이블 인코딩은 선형 회귀와 같은 ML 알고리즘에는 적용 X, 트리 계열의 알고리즘은 숫자의 이러한 특성을 반영하지 않으므로 레이블 인코딩도 별 문제 X, 원-핫 인코딩은 레이블 인코딩의 이러한 문제점을 해결하기 위한 인코딩 방식임"
   ]
  },
  {
   "cell_type": "markdown",
   "id": "d66d6206-245f-465e-9274-38adb0c428b6",
   "metadata": {},
   "source": [
    "----"
   ]
  },
  {
   "cell_type": "markdown",
   "id": "8ffc1b30-2356-4a4a-bff3-a372e42d745a",
   "metadata": {},
   "source": [
    "- 데이터 인코딩\n",
    "      - 원-핫 인코딩 "
   ]
  },
  {
   "cell_type": "code",
   "execution_count": 14,
   "id": "13cc82da-ee53-43f5-b488-b314c94b7ff0",
   "metadata": {},
   "outputs": [
    {
     "name": "stdout",
     "output_type": "stream",
     "text": [
      "원-핫 인코딩 데이터\n",
      "[[1. 0. 0. 0. 0. 0.]\n",
      " [0. 1. 0. 0. 0. 0.]\n",
      " [0. 0. 0. 0. 1. 0.]\n",
      " [0. 0. 0. 0. 0. 1.]\n",
      " [0. 0. 0. 1. 0. 0.]\n",
      " [0. 0. 0. 1. 0. 0.]\n",
      " [0. 0. 1. 0. 0. 0.]\n",
      " [0. 0. 1. 0. 0. 0.]]\n",
      "원-핫 인코딩 데이터 차원\n",
      "(8, 6)\n"
     ]
    }
   ],
   "source": [
    "from sklearn.preprocessing import OneHotEncoder\n",
    "import numpy as np\n",
    "items=['TV','냉장고','전자레인지','컴퓨터','선풍기','선풍기','믹서','믹서']\n",
    "# 먼저 숫자 값으로 변환하기 위해 LabelEncoder로 변환해야함\n",
    "encoder=LabelEncoder() # 객체 생성\n",
    "encoder.fit(items)\n",
    "labels=encoder.transform(items)\n",
    "# 꼭 2차원 데이터로 변경해야 함\n",
    "labels=labels.reshape(-1,1)\n",
    "# 이제 원-핫 인코딩\n",
    "oh_encoder= OneHotEncoder() # 객체 생성\n",
    "oh_encoder.fit(labels)\n",
    "oh_labels=oh_encoder.transform(labels)\n",
    "print('원-핫 인코딩 데이터')\n",
    "print(oh_labels.toarray()) # array 형태로\n",
    "print('원-핫 인코딩 데이터 차원')\n",
    "print(oh_labels.shape) # 8행 6열의 행렬 형태"
   ]
  },
  {
   "cell_type": "markdown",
   "id": "72d864cf-84a4-4821-8b24-f27ad0f25550",
   "metadata": {},
   "source": [
    "> ***`이러한 과정을 pandas를 통해 한 번에? = get_dummies`***"
   ]
  },
  {
   "cell_type": "code",
   "execution_count": 15,
   "id": "88c65463-93e6-4072-8f7c-c67360f4de3c",
   "metadata": {},
   "outputs": [
    {
     "data": {
      "text/html": [
       "<div>\n",
       "<style scoped>\n",
       "    .dataframe tbody tr th:only-of-type {\n",
       "        vertical-align: middle;\n",
       "    }\n",
       "\n",
       "    .dataframe tbody tr th {\n",
       "        vertical-align: top;\n",
       "    }\n",
       "\n",
       "    .dataframe thead th {\n",
       "        text-align: right;\n",
       "    }\n",
       "</style>\n",
       "<table border=\"1\" class=\"dataframe\">\n",
       "  <thead>\n",
       "    <tr style=\"text-align: right;\">\n",
       "      <th></th>\n",
       "      <th>item_TV</th>\n",
       "      <th>item_냉장고</th>\n",
       "      <th>item_믹서</th>\n",
       "      <th>item_선풍기</th>\n",
       "      <th>item_전자레인지</th>\n",
       "      <th>item_컴퓨터</th>\n",
       "    </tr>\n",
       "  </thead>\n",
       "  <tbody>\n",
       "    <tr>\n",
       "      <th>0</th>\n",
       "      <td>1</td>\n",
       "      <td>0</td>\n",
       "      <td>0</td>\n",
       "      <td>0</td>\n",
       "      <td>0</td>\n",
       "      <td>0</td>\n",
       "    </tr>\n",
       "    <tr>\n",
       "      <th>1</th>\n",
       "      <td>0</td>\n",
       "      <td>1</td>\n",
       "      <td>0</td>\n",
       "      <td>0</td>\n",
       "      <td>0</td>\n",
       "      <td>0</td>\n",
       "    </tr>\n",
       "    <tr>\n",
       "      <th>2</th>\n",
       "      <td>0</td>\n",
       "      <td>0</td>\n",
       "      <td>0</td>\n",
       "      <td>0</td>\n",
       "      <td>1</td>\n",
       "      <td>0</td>\n",
       "    </tr>\n",
       "    <tr>\n",
       "      <th>3</th>\n",
       "      <td>0</td>\n",
       "      <td>0</td>\n",
       "      <td>0</td>\n",
       "      <td>0</td>\n",
       "      <td>0</td>\n",
       "      <td>1</td>\n",
       "    </tr>\n",
       "    <tr>\n",
       "      <th>4</th>\n",
       "      <td>0</td>\n",
       "      <td>0</td>\n",
       "      <td>0</td>\n",
       "      <td>1</td>\n",
       "      <td>0</td>\n",
       "      <td>0</td>\n",
       "    </tr>\n",
       "    <tr>\n",
       "      <th>5</th>\n",
       "      <td>0</td>\n",
       "      <td>0</td>\n",
       "      <td>0</td>\n",
       "      <td>1</td>\n",
       "      <td>0</td>\n",
       "      <td>0</td>\n",
       "    </tr>\n",
       "    <tr>\n",
       "      <th>6</th>\n",
       "      <td>0</td>\n",
       "      <td>0</td>\n",
       "      <td>1</td>\n",
       "      <td>0</td>\n",
       "      <td>0</td>\n",
       "      <td>0</td>\n",
       "    </tr>\n",
       "    <tr>\n",
       "      <th>7</th>\n",
       "      <td>0</td>\n",
       "      <td>0</td>\n",
       "      <td>1</td>\n",
       "      <td>0</td>\n",
       "      <td>0</td>\n",
       "      <td>0</td>\n",
       "    </tr>\n",
       "  </tbody>\n",
       "</table>\n",
       "</div>"
      ],
      "text/plain": [
       "   item_TV  item_냉장고  item_믹서  item_선풍기  item_전자레인지  item_컴퓨터\n",
       "0        1         0        0         0           0         0\n",
       "1        0         1        0         0           0         0\n",
       "2        0         0        0         0           1         0\n",
       "3        0         0        0         0           0         1\n",
       "4        0         0        0         1           0         0\n",
       "5        0         0        0         1           0         0\n",
       "6        0         0        1         0           0         0\n",
       "7        0         0        1         0           0         0"
      ]
     },
     "execution_count": 15,
     "metadata": {},
     "output_type": "execute_result"
    }
   ],
   "source": [
    "import pandas as pd\n",
    "df=pd.DataFrame({'item':['TV','냉장고','전자레인지','컴퓨터','선풍기','선풍기','믹서','믹서']})\n",
    "pd.get_dummies(df)"
   ]
  },
  {
   "cell_type": "markdown",
   "id": "c241bd48-eb73-4f86-97d6-eb8c4aa354e7",
   "metadata": {},
   "source": [
    "- get_dummies()를 이용하면 숫자형 값으로 변환 없이도 바로 변환이 가능함"
   ]
  },
  {
   "cell_type": "markdown",
   "id": "e43054c4-28cb-4510-a235-a42bbfcf637e",
   "metadata": {},
   "source": [
    "----"
   ]
  },
  {
   "cell_type": "markdown",
   "id": "2466661b-d2a6-4801-863c-300a6f3e8f60",
   "metadata": {},
   "source": [
    "> ### ***`feature 스케일링과 정규화`***"
   ]
  },
  {
   "cell_type": "markdown",
   "id": "5bb453e5-7417-486d-aa65-d23eb0ced363",
   "metadata": {},
   "source": [
    "feature scaling에는 표준화와 정규화가 있으며, 표준화는 feature각각이 평균0, 분산1인 가우시안 정규 분포를 가진 값으로 변환하는 것을 의미\n",
    "\n",
    "$x_i\\_new$ = $\\frac{x_i-mean(x)}{stdev(x)}$ 이며 $stdev(x)$는 표준편차를 의미함.\n",
    "\n",
    "일반적으로 정규화는 서로 다른 feature의 크기를 통일하기 위해 크기는 변환해주는 개념. 0~1값으로 변환한다. 즉 개별 데이터의 크기를 모두 똑같은 단위로 변경하는 것.\n",
    "\n",
    "$x_i\\_new$ = $\\frac{x_i-min(x)}{max(x)-min(x)}$\n",
    "\n",
    "***주의***\n",
    "\n",
    "사이킷런의 전처리에서 제공하는 Normalizer 모듈과 일반적인 정규화는 약간의 차이가 있음. 사이킷런의 Normalizer 모듈은 선형 대수에서의 정규화 개념이 적용 됐으며, 개별 벡터의 크기를 맞추기 위해 변환하는 것을 의미함.\n",
    "\n",
    "$x_i\\_new$ = $\\frac{x_i}{\\sqrt(x_i^2+y_i^2+z_i^2)}$\n",
    "\n",
    "이를 벡터 정규화로 지칭하자"
   ]
  },
  {
   "cell_type": "markdown",
   "id": "702608ff-ef87-465a-950c-da7f7a3bdaa1",
   "metadata": {},
   "source": [
    "----"
   ]
  },
  {
   "cell_type": "markdown",
   "id": "45746faa-bf6d-4c95-8385-51af4e92a1b8",
   "metadata": {},
   "source": [
    "> ***`StandardScaler` : 표준화***"
   ]
  },
  {
   "cell_type": "code",
   "execution_count": 20,
   "id": "cc9429fb-c257-45c3-8c12-a06260af58bb",
   "metadata": {},
   "outputs": [
    {
     "name": "stdout",
     "output_type": "stream",
     "text": [
      "feature들의 평균값\n",
      "sepal length (cm)    5.843333\n",
      "sepal width (cm)     3.057333\n",
      "petal length (cm)    3.758000\n",
      "petal width (cm)     1.199333\n",
      "dtype: float64\n",
      "\n",
      "feature들의 분산값\n",
      "sepal length (cm)    0.685694\n",
      "sepal width (cm)     0.189979\n",
      "petal length (cm)    3.116278\n",
      "petal width (cm)     0.581006\n",
      "dtype: float64\n"
     ]
    }
   ],
   "source": [
    "from sklearn.datasets import load_iris\n",
    "iris=load_iris()\n",
    "iris_data=iris.data\n",
    "iris_df=pd.DataFrame(data=iris_data,columns=iris.feature_names)\n",
    "\n",
    "print('feature들의 평균값')\n",
    "print(iris_df.mean())\n",
    "print('\\nfeature들의 분산값')\n",
    "print(iris_df.var())"
   ]
  },
  {
   "cell_type": "code",
   "execution_count": 21,
   "id": "487333d3-0350-496c-ba4e-435b9a2ed705",
   "metadata": {},
   "outputs": [
    {
     "name": "stdout",
     "output_type": "stream",
     "text": [
      "feature들의 평균값\n",
      "sepal length (cm)   -1.690315e-15\n",
      "sepal width (cm)    -1.842970e-15\n",
      "petal length (cm)   -1.698641e-15\n",
      "petal width (cm)    -1.409243e-15\n",
      "dtype: float64\n",
      "\n",
      "feature들의 분산값\n",
      "sepal length (cm)    1.006711\n",
      "sepal width (cm)     1.006711\n",
      "petal length (cm)    1.006711\n",
      "petal width (cm)     1.006711\n",
      "dtype: float64\n"
     ]
    }
   ],
   "source": [
    "from sklearn.preprocessing import StandardScaler\n",
    "\n",
    "scaler=StandardScaler() # 객체 생성\n",
    "scaler.fit(iris_df)\n",
    "iris_scaled=scaler.transform(iris_df)\n",
    "\n",
    "# transform()시 스케일 변환된 데이터 세트가 ndarray로 반환돼 이를 DataFrame으로 변환\n",
    "iris_df_scaled = pd.DataFrame(data=iris_scaled,columns=iris.feature_names)\n",
    "print('feature들의 평균값')\n",
    "print(iris_df_scaled.mean())\n",
    "print('\\nfeature들의 분산값')\n",
    "print(iris_df_scaled.var())"
   ]
  },
  {
   "cell_type": "markdown",
   "id": "6d2414b5-4508-4bba-b494-ce4177686826",
   "metadata": {},
   "source": [
    "- 두 셀을 비교해보면 위 셀 $\\to$ 아래 셀, 모든 칼럼 값의 평균이 0에 아주 가까운 값으로, 그리고 분산은 1에 아주 가까운 값으로 변환됐음을 알 수 있다."
   ]
  },
  {
   "cell_type": "markdown",
   "id": "9346fc2f-7472-4e73-bd43-fd485340b2a7",
   "metadata": {},
   "source": [
    "> ***`MinMaxScaler` : 정규화***"
   ]
  },
  {
   "cell_type": "markdown",
   "id": "92c5976e-f4c7-43aa-a749-316f0abb34fe",
   "metadata": {},
   "source": [
    "- 데이터 값을 0과 1사이의 범위 값으로 변환한다. (음수 값이 있으면 -1에서 1값으로 변환)\n",
    "- 데이터의 분포가 가우시안 분포가 아닐 경우에 적용 가능"
   ]
  },
  {
   "cell_type": "code",
   "execution_count": 23,
   "id": "622d4d20-ce2c-4169-a820-f2fdd09ed9fe",
   "metadata": {},
   "outputs": [
    {
     "name": "stdout",
     "output_type": "stream",
     "text": [
      "feature들의 최솟값\n",
      "sepal length (cm)    0.0\n",
      "sepal width (cm)     0.0\n",
      "petal length (cm)    0.0\n",
      "petal width (cm)     0.0\n",
      "dtype: float64\n",
      "\n",
      "feature들의 최댓값\n",
      "sepal length (cm)    1.0\n",
      "sepal width (cm)     1.0\n",
      "petal length (cm)    1.0\n",
      "petal width (cm)     1.0\n",
      "dtype: float64\n"
     ]
    }
   ],
   "source": [
    "from sklearn.preprocessing import MinMaxScaler\n",
    "scaler=MinMaxScaler()\n",
    "scaler.fit(iris_df)\n",
    "iris_scaled=scaler.transform(iris_df)\n",
    "# transform()시 스케일 변환된 데이터 세트가 ndarray로 반환돼 이를 DF으로 변환\n",
    "iris_df_scaled = pd.DataFrame(data=iris_scaled,columns=iris.feature_names)\n",
    "print('feature들의 최솟값')\n",
    "print(iris_df_scaled.min())\n",
    "print('\\nfeature들의 최댓값')\n",
    "print(iris_df_scaled.max())"
   ]
  },
  {
   "cell_type": "markdown",
   "id": "7c478b93-4f4f-4f0c-9aa6-5a3533f88901",
   "metadata": {},
   "source": [
    "- 모든 feature가 0에서 1사이의 값으로 변환되는 스케일링이 적용됐음을 알 수 있다."
   ]
  },
  {
   "cell_type": "markdown",
   "id": "ab7f2699-ce03-46d8-a945-a2944ef6f974",
   "metadata": {},
   "source": [
    "----"
   ]
  },
  {
   "cell_type": "markdown",
   "id": "fdc3487b-fbde-4791-8199-d28913028f97",
   "metadata": {},
   "source": [
    "***`유의점`*** 128p 참고\n",
    "\n",
    "학습 데이터로 fit()이 적용된 스케일링 기준 정보를 그대로 테스트 데이터에 적용해야 하며, 그렇지 않으면 학습 데이터와 테스트 데이터의 스케일링 기준 정보가 서로 달라지기 때문에 올바른 예측 결과를 도출하지 못할 수 있다.\n"
   ]
  },
  {
   "cell_type": "markdown",
   "id": "309a6ae0-a1e3-4cdd-bc05-1c38e36c2768",
   "metadata": {},
   "source": [
    "test_array에 Scale 변환을 할 때는 반드시 fit()을 호출하지 않고 transform()만으로 변환해야한다."
   ]
  },
  {
   "cell_type": "markdown",
   "id": "ba903d53-88d0-486f-a20d-9cfdc14e0972",
   "metadata": {},
   "source": [
    "- 즉 가능하다면 전체 데이터의 스케일링 변환을 적용한 뒤 학습과 테스트 데이터로 분리하던가 이것이 여의치 않다면 테스트 데이터 변환 시에는 fit()이나 fit_transform()을 적용하지 않고 학습 데이터로 이미 fit()된 scaler 객체를 이용해 transform()으로 변환"
   ]
  },
  {
   "cell_type": "markdown",
   "id": "34ddeae3-9d92-48e9-a0bd-1f8e6fe767af",
   "metadata": {},
   "source": [
    "----"
   ]
  },
  {
   "cell_type": "markdown",
   "id": "46274abb-9a69-4fbb-919c-ed1c5becce43",
   "metadata": {},
   "source": [
    "***`131p 사이킷런으로 수행하는 타이타닉 생존자 예측, 꼭 한 번 실습해보기`***"
   ]
  },
  {
   "cell_type": "code",
   "execution_count": null,
   "id": "4f354f02-42ed-4b67-8749-3a0619e3bdaa",
   "metadata": {},
   "outputs": [],
   "source": []
  }
 ],
 "metadata": {
  "kernelspec": {
   "display_name": "Python 3 (ipykernel)",
   "language": "python",
   "name": "python3"
  },
  "language_info": {
   "codemirror_mode": {
    "name": "ipython",
    "version": 3
   },
   "file_extension": ".py",
   "mimetype": "text/x-python",
   "name": "python",
   "nbconvert_exporter": "python",
   "pygments_lexer": "ipython3",
   "version": "3.8.11"
  }
 },
 "nbformat": 4,
 "nbformat_minor": 5
}
