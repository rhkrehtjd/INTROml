{
 "cells": [
  {
   "cell_type": "markdown",
   "id": "c420be1d-5e68-4828-b5a0-0676154b5d2a",
   "metadata": {},
   "source": [
    "# Machine Learning?"
   ]
  },
  {
   "cell_type": "markdown",
   "id": "5e03995a-0c86-4511-a821-cc154f8fe66b",
   "metadata": {},
   "source": [
    "> ### `데이터에 모델을 맞춘다`"
   ]
  },
  {
   "cell_type": "markdown",
   "id": "4607a3f3-2ebe-44ab-ba53-4c15efa60299",
   "metadata": {},
   "source": [
    "- 애플리케이션을 수정하지 않고도 데이터를 기반으로 패턴을 학습하고 결과를 예측하는 알고리즘 기법을 통칭"
   ]
  },
  {
   "cell_type": "markdown",
   "id": "28eba866-df38-4947-8d5d-85e4488b7302",
   "metadata": {},
   "source": [
    "- 데이터 기반으로 통계적인 신뢰도를 강화하고 예측 오류를 최소화하기 위한 다양한 수학적 기법을 적용해 데이터 내의 패턴을 스스로 인지하고 신뢰도 있는 예측 결과를 도출"
   ]
  },
  {
   "cell_type": "markdown",
   "id": "9d208115-47bb-40fd-86dd-1a547d8f5b9c",
   "metadata": {},
   "source": [
    "- 데이터를 관통하는 패턴을 학습, 이에 기반한 예측 수행"
   ]
  },
  {
   "cell_type": "markdown",
   "id": "1ff144b3-198f-4fe0-9728-6802f16a2e73",
   "metadata": {},
   "source": [
    "- 모델을 맞춘다? 모델을 학습시키는 기법들에는 딥러닝, 나이브베이즈, 디시전트리 등이 있음, 모델을 맞추는 행위를 하지 않으면 이 모델은 어떤 문제도 해결할 수가 없음, 따라서 데이터를 모델에 맞추는 행위가 필요함"
   ]
  },
  {
   "cell_type": "markdown",
   "id": "58baa09d-f02a-42c9-9494-cff0c6767b45",
   "metadata": {},
   "source": [
    "- 따라서 이 데이터에 문제를 최대한 많이 맞출 수 있도록 모델을 최적화하여야 하는데 이렇게 최적화가 된 모델이 그 데이터에 해당된 문제를 해결할 수 있게 됨"
   ]
  },
  {
   "cell_type": "markdown",
   "id": "2824fdfc-e7fe-4acb-9f1b-067b72ed22a2",
   "metadata": {},
   "source": [
    "> 분류 : 지도 학습(Supervised Learning), 비지도 학습(Un-supervised Learning), 강화 학습(Reinforcement Learning)\n",
    "\n",
    "> 지도학습 $\\to$ 분류(Classification)와 회귀(Regression)로 나눌 수 있음"
   ]
  },
  {
   "cell_type": "markdown",
   "id": "4f2f7ec8-856f-45de-b33a-7ca6fa9561c2",
   "metadata": {},
   "source": [
    "---"
   ]
  },
  {
   "cell_type": "markdown",
   "id": "b0ea83d5-d772-4b25-ab16-473ecd9dda9f",
   "metadata": {},
   "source": [
    "- data? Garbage In $\\to$ Garbage Out : data도 질이 중요하다"
   ]
  },
  {
   "cell_type": "markdown",
   "id": "a118b3cf-d16f-45f7-9949-74d835de517a",
   "metadata": {},
   "source": [
    "- 데이터를 이해하고 효율적으로 가공,처리,추출하여 최적의 데이터를 기반으로 알고리즘을 구동할 수 있도록 준비하는 능력 필요"
   ]
  },
  {
   "cell_type": "markdown",
   "id": "78ed626d-75bd-48d5-b065-e03ff71ecf3b",
   "metadata": {},
   "source": [
    "---"
   ]
  },
  {
   "cell_type": "markdown",
   "id": "15544728-e4b0-4940-a87f-ceaa5bae4cd5",
   "metadata": {},
   "source": [
    "만약 온도, 습도, 풍속을 정리해놓은 데이터가 있을 때 눈이 오는 여부를 다양한 기법으로 해결할 수 있음"
   ]
  },
  {
   "cell_type": "markdown",
   "id": "d2c0515b-a35f-4f0a-9f31-6c15fc6fe2b4",
   "metadata": {},
   "source": [
    "1) 조건을 정해서 해결한다.(decision tree 등)\n",
    "\n",
    "2) 수식(가중치)으로 해결한다.(선형 회귀, 딥러닝 등)\n",
    "\n",
    "이러한 접근 방식을 통해서 가지고 있는 데이터를 50%정도만 해결했다면 이 접근 방식들은 썩 좋지 않은 방식일 것임\n",
    "\n",
    "따라서 머신러닝을 학습한다는 것은 이 정답을 최대한 맞출 수 있도록 모델을 최대한 최적화한다는 의미임. 이렇게 가장 좋은 성능이 나올 수 있는 식과 조건을 찾아나가는 것을 기계가 스스로 하는 것을 머신러닝이라고 생각할 수도 있겠음."
   ]
  },
  {
   "cell_type": "markdown",
   "id": "bdf0f4a9-16f8-4f91-b5e8-0cec272cfac1",
   "metadata": {},
   "source": [
    "------"
   ]
  },
  {
   "cell_type": "markdown",
   "id": "568fb643-e608-42bd-8b85-df0cea9af045",
   "metadata": {},
   "source": [
    "딥러닝 등 머신러닝 기법들 전반적으로 공부할 필요가 있다"
   ]
  },
  {
   "cell_type": "markdown",
   "id": "56119a18-fd4c-4421-a92a-0c961358a66e",
   "metadata": {},
   "source": [
    "- 딥러닝 : 자연어와 이미지 처리에 강하다. 그렇지만 다른 과업처리에 있어서도 항상 우수한 결과를 도출해내는 것은 아니다. 대표적으로 KAGGLE에 있는 TITANIC자료에서 실제로 산 승객과 죽은 승객을 처리해내는 과업을 수행할 땐 딥러닝보다 머신러닝의 모델이 더 좋은 결과를 도출해냈음"
   ]
  },
  {
   "cell_type": "markdown",
   "id": "3202ac9f-c57b-4394-8e5e-51d1410132f3",
   "metadata": {},
   "source": [
    "#### `결국 목적은 데이터를 모델에 최적화 시키는 것이다`"
   ]
  },
  {
   "cell_type": "markdown",
   "id": "a7113b89-ab33-41ad-b76b-2749774d0783",
   "metadata": {},
   "source": [
    "머신러닝 논문에 머신러닝 기법들간에 성능을 비교한 표도 있음. 즉, 머신러닝 기법들은 다양한 기법들이 있기 때문에 그 것들간의 차이점과, 각각의 알고리즘이 무엇을 최적화하려는 것인지의 관점에서 이해해보아야함"
   ]
  },
  {
   "cell_type": "markdown",
   "id": "6961add9-a64f-4cdb-9c64-24c3a76993d4",
   "metadata": {},
   "source": [
    "---"
   ]
  },
  {
   "cell_type": "markdown",
   "id": "49b87d71-4332-4f57-b8ac-79971bbfef92",
   "metadata": {},
   "source": [
    "---"
   ]
  },
  {
   "cell_type": "markdown",
   "id": "52b5e39e-f1d6-49cb-bc13-f872977c0a32",
   "metadata": {},
   "source": [
    ">  ### `파이썬 머신러닝 생태계를 구성하는 주요 패키지`"
   ]
  },
  {
   "cell_type": "markdown",
   "id": "2a737e18-329e-4c27-96eb-d56c2ed168b3",
   "metadata": {},
   "source": [
    "- 머신러닝 패키지 : Scikit-Learn\n",
    "\n",
    "- 행렬/ 선형대수/ 통계 패키지 : Numpy, SciPy\n",
    "\n",
    "- 데이터 핸들링 : Pandas(Numpy는 행렬 기반의 데이터 처리에 특화) $\\to$ 2차원 데이터 처리에 특화,Matplotlib\n",
    "\n",
    "- 시각화 : matplotlib(너무 세분화 되어 있어서 익히기 어려움, 시각적인 면에서도 투박),Seaborn(matplotlib의 대안이 될 것)"
   ]
  }
 ],
 "metadata": {
  "kernelspec": {
   "display_name": "Python 3 (ipykernel)",
   "language": "python",
   "name": "python3"
  },
  "language_info": {
   "codemirror_mode": {
    "name": "ipython",
    "version": 3
   },
   "file_extension": ".py",
   "mimetype": "text/x-python",
   "name": "python",
   "nbconvert_exporter": "python",
   "pygments_lexer": "ipython3",
   "version": "3.8.11"
  }
 },
 "nbformat": 4,
 "nbformat_minor": 5
}
