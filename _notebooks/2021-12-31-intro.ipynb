{
 "cells": [
  {
   "cell_type": "markdown",
   "id": "b61723ce-91fb-48ec-8564-81fc58a348cc",
   "metadata": {},
   "source": [
    "# 2021/12/31/FRI"
   ]
  },
  {
   "cell_type": "markdown",
   "id": "6406dde9-b5ea-4595-b99d-142cab663ee9",
   "metadata": {},
   "source": [
    "> Scikit-Learn : 파이썬 머신러닝 라이브러리 중 가장 많이 사용되는 라이브러리\n",
    "\n",
    "> $\\to$ 머신러닝을 위한 다양한 알고리즘과 편리한 프레임 워크, API를 제공"
   ]
  },
  {
   "cell_type": "code",
   "execution_count": 1,
   "id": "fce441c2-d29a-463e-af72-218ef1a5438f",
   "metadata": {},
   "outputs": [],
   "source": [
    "import sklearn"
   ]
  },
  {
   "cell_type": "markdown",
   "id": "d411c83d-c99c-4475-8ebc-15df4f58550e",
   "metadata": {},
   "source": [
    "> ### `붓꽃 품종 예측하기`"
   ]
  },
  {
   "cell_type": "markdown",
   "id": "44d5be1c-091e-4e02-9520-d8249cbd6713",
   "metadata": {},
   "source": [
    "- 붓꽃 데이터 세트로 붓꽃의 품종을 분류\n",
    "\n",
    "- 분류(Classification)는 대표적인 지도학습(Supervised Learning) 방법 중 하나\n",
    "\n",
    "- 지도학습은 학습을 위한 `다양한 feature`와 분류 결정값인 `레이블 데이터`로 모델을 학습한 뒤, 별도의 테스트 데이터 세트에서 미지의 레이블을 예측\n",
    "\n",
    "- 학습을 위해 주어진 데이터 세트를 `학습 데이터 세트`, 머신러닝 모델의 예측 성능을 평가하기 위해 별도로 주어진 데이터 세트를 `테스트 데이터 세트`라 함"
   ]
  },
  {
   "cell_type": "markdown",
   "id": "f264849c-c9b7-40ca-b1a7-cd62c1c54152",
   "metadata": {},
   "source": [
    "---"
   ]
  },
  {
   "cell_type": "markdown",
   "id": "9cb2627a-846c-4bcb-a43f-074d97acafe4",
   "metadata": {},
   "source": [
    "- sklearn.datasets내의 모듈은 사이킷런에서 자체적으로 제공하는 데이터 세트를 생성하는 모듈의 모임\n",
    "\n",
    "- sklearn.tree내의 모듈은 트리 기반 ML 알고리즘을 구현한 클래스의 모임\n",
    "\n",
    "- sklearn.model_selection은 학습 데이터와 검증 데이터, 예측 데이터로 데이터를 분리하거나 최적의 하이퍼 파라미터로 평가하기 위한 다양한 모듈의 모임\n",
    "\n",
    "- 하이퍼 파라미터 : 머신 러닝 알고리즘별로 최적의 학습을 위해 직접 입력하는 파라미터를 통칭, 하이퍼 파라미터를 통해 머신 러닝 알고리즘의 성능을 튜닝할 수 있다. "
   ]
  },
  {
   "cell_type": "code",
   "execution_count": 4,
   "id": "e8eef84f-18a5-4879-a6a2-b1a7787f3ea9",
   "metadata": {},
   "outputs": [],
   "source": [
    "from sklearn.datasets import load_iris\n",
    "from sklearn.tree import DecisionTreeClassifier\n",
    "from sklearn.model_selection import train_test_split\n",
    "import pandas as pd"
   ]
  },
  {
   "cell_type": "code",
   "execution_count": 7,
   "id": "b0c12936-d9ba-4f79-bfef-fcadc437bf83",
   "metadata": {},
   "outputs": [],
   "source": [
    "iris = load_iris()\n",
    "# 붓꽃 데이터 세트 로딩"
   ]
  },
  {
   "cell_type": "code",
   "execution_count": 47,
   "id": "3f35b063-359d-43f7-ae8b-46d05535629e",
   "metadata": {},
   "outputs": [
    {
     "data": {
      "text/plain": [
       "dict_keys(['data', 'target', 'frame', 'target_names', 'DESCR', 'feature_names', 'filename', 'data_module'])"
      ]
     },
     "execution_count": 47,
     "metadata": {},
     "output_type": "execute_result"
    }
   ],
   "source": [
    "iris.keys()\n",
    "# 따라서 iris.키이름  또는 iris['키이름']을 통해 해당 값들을 확인할 수 있다."
   ]
  },
  {
   "cell_type": "code",
   "execution_count": 42,
   "id": "4bfc3f62-c118-4dc3-8772-77875132a99f",
   "metadata": {},
   "outputs": [],
   "source": [
    "iris_data = iris.data\n",
    "# iris 데이터 세트에서 feature만으로 구성된 데이터를 numpy로 로딩"
   ]
  },
  {
   "cell_type": "code",
   "execution_count": 13,
   "id": "8b5a5a26-2583-4ae2-ae78-61ef07580099",
   "metadata": {},
   "outputs": [],
   "source": [
    "iris_label = iris.target\n",
    "# 데이터 세트에서 레이블(결정값) 데이터를 numpy로 로딩"
   ]
  },
  {
   "cell_type": "code",
   "execution_count": 16,
   "id": "592b2a89-d398-4fc3-b9c1-498a822c46dd",
   "metadata": {},
   "outputs": [
    {
     "data": {
      "text/plain": [
       "array(['setosa', 'versicolor', 'virginica'], dtype='<U10')"
      ]
     },
     "execution_count": 16,
     "metadata": {},
     "output_type": "execute_result"
    }
   ],
   "source": [
    "iris.target_names"
   ]
  },
  {
   "cell_type": "markdown",
   "id": "d584d445-ffef-431c-893e-7df94bdbf6ca",
   "metadata": {},
   "source": [
    "- 붓꽃 데이터 세트를 자세히 보기 위해 DataFrame으로 변환"
   ]
  },
  {
   "cell_type": "code",
   "execution_count": 17,
   "id": "a2058011-af32-45df-b881-183d19dc4ddd",
   "metadata": {},
   "outputs": [
    {
     "data": {
      "text/plain": [
       "['sepal length (cm)',\n",
       " 'sepal width (cm)',\n",
       " 'petal length (cm)',\n",
       " 'petal width (cm)']"
      ]
     },
     "execution_count": 17,
     "metadata": {},
     "output_type": "execute_result"
    }
   ],
   "source": [
    "iris.feature_names"
   ]
  },
  {
   "cell_type": "code",
   "execution_count": 18,
   "id": "bf668e65-d00c-40a1-8bdc-7620fc7518eb",
   "metadata": {},
   "outputs": [],
   "source": [
    "iris_df = pd.DataFrame(data=iris_data,columns=iris.feature_names)"
   ]
  },
  {
   "cell_type": "code",
   "execution_count": 21,
   "id": "1747bac1-e2ae-435f-a2c6-e84f818636a9",
   "metadata": {},
   "outputs": [
    {
     "data": {
      "text/html": [
       "<div>\n",
       "<style scoped>\n",
       "    .dataframe tbody tr th:only-of-type {\n",
       "        vertical-align: middle;\n",
       "    }\n",
       "\n",
       "    .dataframe tbody tr th {\n",
       "        vertical-align: top;\n",
       "    }\n",
       "\n",
       "    .dataframe thead th {\n",
       "        text-align: right;\n",
       "    }\n",
       "</style>\n",
       "<table border=\"1\" class=\"dataframe\">\n",
       "  <thead>\n",
       "    <tr style=\"text-align: right;\">\n",
       "      <th></th>\n",
       "      <th>sepal length (cm)</th>\n",
       "      <th>sepal width (cm)</th>\n",
       "      <th>petal length (cm)</th>\n",
       "      <th>petal width (cm)</th>\n",
       "    </tr>\n",
       "  </thead>\n",
       "  <tbody>\n",
       "    <tr>\n",
       "      <th>0</th>\n",
       "      <td>5.1</td>\n",
       "      <td>3.5</td>\n",
       "      <td>1.4</td>\n",
       "      <td>0.2</td>\n",
       "    </tr>\n",
       "    <tr>\n",
       "      <th>1</th>\n",
       "      <td>4.9</td>\n",
       "      <td>3.0</td>\n",
       "      <td>1.4</td>\n",
       "      <td>0.2</td>\n",
       "    </tr>\n",
       "    <tr>\n",
       "      <th>2</th>\n",
       "      <td>4.7</td>\n",
       "      <td>3.2</td>\n",
       "      <td>1.3</td>\n",
       "      <td>0.2</td>\n",
       "    </tr>\n",
       "    <tr>\n",
       "      <th>3</th>\n",
       "      <td>4.6</td>\n",
       "      <td>3.1</td>\n",
       "      <td>1.5</td>\n",
       "      <td>0.2</td>\n",
       "    </tr>\n",
       "    <tr>\n",
       "      <th>4</th>\n",
       "      <td>5.0</td>\n",
       "      <td>3.6</td>\n",
       "      <td>1.4</td>\n",
       "      <td>0.2</td>\n",
       "    </tr>\n",
       "    <tr>\n",
       "      <th>...</th>\n",
       "      <td>...</td>\n",
       "      <td>...</td>\n",
       "      <td>...</td>\n",
       "      <td>...</td>\n",
       "    </tr>\n",
       "    <tr>\n",
       "      <th>145</th>\n",
       "      <td>6.7</td>\n",
       "      <td>3.0</td>\n",
       "      <td>5.2</td>\n",
       "      <td>2.3</td>\n",
       "    </tr>\n",
       "    <tr>\n",
       "      <th>146</th>\n",
       "      <td>6.3</td>\n",
       "      <td>2.5</td>\n",
       "      <td>5.0</td>\n",
       "      <td>1.9</td>\n",
       "    </tr>\n",
       "    <tr>\n",
       "      <th>147</th>\n",
       "      <td>6.5</td>\n",
       "      <td>3.0</td>\n",
       "      <td>5.2</td>\n",
       "      <td>2.0</td>\n",
       "    </tr>\n",
       "    <tr>\n",
       "      <th>148</th>\n",
       "      <td>6.2</td>\n",
       "      <td>3.4</td>\n",
       "      <td>5.4</td>\n",
       "      <td>2.3</td>\n",
       "    </tr>\n",
       "    <tr>\n",
       "      <th>149</th>\n",
       "      <td>5.9</td>\n",
       "      <td>3.0</td>\n",
       "      <td>5.1</td>\n",
       "      <td>1.8</td>\n",
       "    </tr>\n",
       "  </tbody>\n",
       "</table>\n",
       "<p>150 rows × 4 columns</p>\n",
       "</div>"
      ],
      "text/plain": [
       "     sepal length (cm)  sepal width (cm)  petal length (cm)  petal width (cm)\n",
       "0                  5.1               3.5                1.4               0.2\n",
       "1                  4.9               3.0                1.4               0.2\n",
       "2                  4.7               3.2                1.3               0.2\n",
       "3                  4.6               3.1                1.5               0.2\n",
       "4                  5.0               3.6                1.4               0.2\n",
       "..                 ...               ...                ...               ...\n",
       "145                6.7               3.0                5.2               2.3\n",
       "146                6.3               2.5                5.0               1.9\n",
       "147                6.5               3.0                5.2               2.0\n",
       "148                6.2               3.4                5.4               2.3\n",
       "149                5.9               3.0                5.1               1.8\n",
       "\n",
       "[150 rows x 4 columns]"
      ]
     },
     "execution_count": 21,
     "metadata": {},
     "output_type": "execute_result"
    }
   ],
   "source": [
    "iris_df"
   ]
  },
  {
   "cell_type": "code",
   "execution_count": 23,
   "id": "19c3aa3f-7058-4351-a38d-50ca9dfd0f75",
   "metadata": {},
   "outputs": [],
   "source": [
    "iris_df['label']=iris_label"
   ]
  },
  {
   "cell_type": "code",
   "execution_count": 25,
   "id": "f7559b2b-91f0-4ca4-bb16-ea24d31331d9",
   "metadata": {},
   "outputs": [
    {
     "data": {
      "text/html": [
       "<div>\n",
       "<style scoped>\n",
       "    .dataframe tbody tr th:only-of-type {\n",
       "        vertical-align: middle;\n",
       "    }\n",
       "\n",
       "    .dataframe tbody tr th {\n",
       "        vertical-align: top;\n",
       "    }\n",
       "\n",
       "    .dataframe thead th {\n",
       "        text-align: right;\n",
       "    }\n",
       "</style>\n",
       "<table border=\"1\" class=\"dataframe\">\n",
       "  <thead>\n",
       "    <tr style=\"text-align: right;\">\n",
       "      <th></th>\n",
       "      <th>sepal length (cm)</th>\n",
       "      <th>sepal width (cm)</th>\n",
       "      <th>petal length (cm)</th>\n",
       "      <th>petal width (cm)</th>\n",
       "      <th>label</th>\n",
       "    </tr>\n",
       "  </thead>\n",
       "  <tbody>\n",
       "    <tr>\n",
       "      <th>0</th>\n",
       "      <td>5.1</td>\n",
       "      <td>3.5</td>\n",
       "      <td>1.4</td>\n",
       "      <td>0.2</td>\n",
       "      <td>0</td>\n",
       "    </tr>\n",
       "    <tr>\n",
       "      <th>1</th>\n",
       "      <td>4.9</td>\n",
       "      <td>3.0</td>\n",
       "      <td>1.4</td>\n",
       "      <td>0.2</td>\n",
       "      <td>0</td>\n",
       "    </tr>\n",
       "    <tr>\n",
       "      <th>2</th>\n",
       "      <td>4.7</td>\n",
       "      <td>3.2</td>\n",
       "      <td>1.3</td>\n",
       "      <td>0.2</td>\n",
       "      <td>0</td>\n",
       "    </tr>\n",
       "  </tbody>\n",
       "</table>\n",
       "</div>"
      ],
      "text/plain": [
       "   sepal length (cm)  sepal width (cm)  petal length (cm)  petal width (cm)  \\\n",
       "0                5.1               3.5                1.4               0.2   \n",
       "1                4.9               3.0                1.4               0.2   \n",
       "2                4.7               3.2                1.3               0.2   \n",
       "\n",
       "   label  \n",
       "0      0  \n",
       "1      0  \n",
       "2      0  "
      ]
     },
     "execution_count": 25,
     "metadata": {},
     "output_type": "execute_result"
    }
   ],
   "source": [
    "iris_df.head(3)"
   ]
  },
  {
   "cell_type": "markdown",
   "id": "99751399-4521-461e-886c-85d1627796e7",
   "metadata": {},
   "source": [
    "- feature : columns를 의미함\n",
    "- label(결정값) : 0,1,2 세 가지 값응로 돼 있으며 순서대로 Setosa,versicolor,virginica 품종을 의미"
   ]
  },
  {
   "cell_type": "markdown",
   "id": "ab8fc1c8-da29-4b92-98bb-899de6265867",
   "metadata": {},
   "source": [
    "---"
   ]
  },
  {
   "cell_type": "markdown",
   "id": "f1fced6e-6f37-41d8-bfb5-5d034afa7ac4",
   "metadata": {},
   "source": [
    "- 학습용 데이터와 테스트용 데이터를 분리해보자"
   ]
  },
  {
   "cell_type": "markdown",
   "id": "9b96a31f-2e7b-4c90-9db2-d2bb50b95645",
   "metadata": {},
   "source": [
    "- 학습용 데이터와 테스트용 데이터는 반드시 분리해야 함, 이를 위해 Scikit-learn에선 train_test_split() API를 제공, 해당 API를 이용하면 학습 데이터와 테스트 데이터를 test_size 파라미터 입력 값의 비율로 쉽게 분할함"
   ]
  },
  {
   "cell_type": "markdown",
   "id": "7b550f9d-ad85-4f26-9dc9-a0338664b966",
   "metadata": {},
   "source": [
    "- 예를 들어보자, teat_size=0.2로 입력 파라미터를 설정하면 전체 데이터 중 테스트 데이터가 20%, 학습 데이터가 80%로 데이터를 분할함"
   ]
  },
  {
   "cell_type": "code",
   "execution_count": 26,
   "id": "a79b66d2-0f27-4672-946d-56435de6cfb4",
   "metadata": {},
   "outputs": [],
   "source": [
    "X_train,X_test,y_train,y_test=train_test_split(iris_data,iris_label,test_size=0.2, random_state=11)"
   ]
  },
  {
   "cell_type": "markdown",
   "id": "20a7e6b1-7fdc-4535-b241-d26015f020e6",
   "metadata": {},
   "source": [
    "- train_test_split의 첫 번째 파라미터인 iris_data는 feature 데이터 세트이며, 두 번째 파라미터인 iris_label은 Label 데이터 세트. random_state=11은 호출할 때마다 같은 학습/테스트용 데이터 세트를 생성하기 위해 주어지는 난수 발생 값.\n",
    "\n",
    "- train_test_split은 호출 시 무작위로 데이터를 분리하므로 random_state를 지정하지 않으면 수행할 때마다 다른 학습/테스트 용 데이터를 만듦.\n",
    "\n",
    "- X_train,X_test,y_train,y_test = 학습용 feature데이터 세트, 테스트용 feature데이터 세트, 학습용 레이블 데이터 세트, 테스트용 레이블 데이터 세트를 의미"
   ]
  },
  {
   "cell_type": "markdown",
   "id": "ecdf0061-72cc-48cf-9968-2a56ed86d356",
   "metadata": {},
   "source": [
    "---"
   ]
  },
  {
   "cell_type": "markdown",
   "id": "4fb17e8e-fcda-4f23-a8c0-4a34bff62283",
   "metadata": {},
   "source": [
    "> 이제 이 데이터를 기반으로 머신 러닝 분류 알고리즘의 하나인 의사 결정 트리를 이용해 학습과 예측을 수행"
   ]
  },
  {
   "cell_type": "code",
   "execution_count": 28,
   "id": "8ba0963e-ad9d-4b3e-bcf0-b12e2ea625b1",
   "metadata": {},
   "outputs": [],
   "source": [
    "dt_clf=DecisionTreeClassifier(random_state=11)"
   ]
  },
  {
   "cell_type": "code",
   "execution_count": 29,
   "id": "9d3cd592-6dfe-49f5-8211-ea46d6a82b8d",
   "metadata": {},
   "outputs": [
    {
     "data": {
      "text/plain": [
       "DecisionTreeClassifier(random_state=11)"
      ]
     },
     "execution_count": 29,
     "metadata": {},
     "output_type": "execute_result"
    }
   ],
   "source": [
    "dt_clf.fit(X_train,y_train)\n",
    "# 학습용 feature 데이터 세트와 학습용 레이블 데이터 세트를 입력해 학습 수행중"
   ]
  },
  {
   "cell_type": "markdown",
   "id": "82f0d31f-880b-495c-9583-adb751542d9f",
   "metadata": {},
   "source": [
    "- 학습 완료/ 예측을 수행해야하는데 학습 데이터가 아닌 다른 데이터를 이용해야 하며, 일반적으로 테스트 데이터 세트를 이용함"
   ]
  },
  {
   "cell_type": "code",
   "execution_count": 34,
   "id": "c1d834ef-e1a1-4f31-8d54-aceefd336140",
   "metadata": {},
   "outputs": [],
   "source": [
    "pred=dt_clf.predict(X_test)\n",
    "# 예측 수행 중\n",
    "# 예측 label data set"
   ]
  },
  {
   "cell_type": "markdown",
   "id": "3bba59a9-4b22-4030-ab85-16e7efe9de64",
   "metadata": {},
   "source": [
    "- 예측 성능 평가, 여러 평가 방법 중 정확도를 측정해보자. 정확도는 예측 결과가 실제 레이블 값과 얼마나 정확하게 맞는지를 평가하는 지표 "
   ]
  },
  {
   "cell_type": "code",
   "execution_count": 36,
   "id": "fab8634f-e061-4ae3-a563-3d8d5cc8c3fa",
   "metadata": {},
   "outputs": [
    {
     "name": "stdout",
     "output_type": "stream",
     "text": [
      "예측 정확도: 0.9333\n"
     ]
    }
   ],
   "source": [
    "from sklearn.metrics import accuracy_score\n",
    "print('예측 정확도: {:.4f}'.format(accuracy_score(y_test,pred)))"
   ]
  },
  {
   "cell_type": "markdown",
   "id": "1009c5fd-eebe-47ab-b0aa-dedf5cc1ba1f",
   "metadata": {},
   "source": [
    "- 학습한 의사 결정 트리의 알고리즘 예측 정확도가 약 93.33%"
   ]
  },
  {
   "cell_type": "markdown",
   "id": "6268a851-6838-4be2-b4e7-4394c1686aff",
   "metadata": {},
   "source": [
    "---"
   ]
  },
  {
   "cell_type": "markdown",
   "id": "633bd7ae-e767-4b09-b1f5-e58492dbca40",
   "metadata": {},
   "source": [
    "### `Conclusion`"
   ]
  },
  {
   "cell_type": "markdown",
   "id": "fa46d817-a6cf-4977-b2e2-209f0bdb32a7",
   "metadata": {},
   "source": [
    "1) 데이터 세트 분리 : 데이터를 학습 데이터와 테스트 데이터로 분리\n",
    "2) 모델 학습 : 학습 데이터를 기반으로 ML 알고리즘을 적용해 모델을 학습\n",
    "3) 예측 수행 : 학습된 ML 모델을 이용해 테스트 데이터의 분류(즉, 붓꽃 종류)를 예측\n",
    "4) 평가 : 이렇게 예측된 결과값과 테스트 데이터의 실제 결과값을 비교해 ML 모델 성능을 평가"
   ]
  },
  {
   "cell_type": "markdown",
   "id": "7756c888-c0ea-424e-81dc-87f0d8d0f923",
   "metadata": {},
   "source": [
    "---"
   ]
  },
  {
   "cell_type": "markdown",
   "id": "c05b2ba4-ade5-40a9-9a96-d222a143d7f3",
   "metadata": {},
   "source": [
    "> 간단한 실습을 해보았으니 전체적 틀을 review해보자"
   ]
  },
  {
   "cell_type": "markdown",
   "id": "203a1cfd-5955-4309-b47d-5ed4703d5654",
   "metadata": {},
   "source": [
    "- ML 모델 학습을 위해서 fit(), 학습된 모델의 예측을 위해 predict()를 사용\n",
    "- Scikit Learn에서는 `분류 알고리즘`을 구현한 클래스를 `Classifier`로, 그리고 `회귀 알고리즘`을 구현한 클래스를 `Regressor`로 지칭\n",
    "- Classifier와 Regressor를 합쳐서 Estimator 클래스라고 부름. 즉, 지도학습의 모든 알고리즘을 구현한 클래스를 통칭해서 Estimator라고 부름"
   ]
  },
  {
   "cell_type": "markdown",
   "id": "c1eb2bc0-1c36-464b-9558-3d6d9a9151b6",
   "metadata": {},
   "source": [
    "> Scikit-Learn의 다양한 모듈은 교재 94p,95p 참고"
   ]
  },
  {
   "cell_type": "markdown",
   "id": "86123840-41bf-43b9-8bb5-674c44741df3",
   "metadata": {},
   "source": [
    "\n",
    "- ***머신러닝 모델을 구축하는 주요 프로세스 = feature의 가공, 변경, 추출을 수행하는 `feature processing`, `ML 알고리즙 학습/예측 수행`, 그리고 `모델 평가 단계`를 반복적으로 수행하는 것***"
   ]
  },
  {
   "cell_type": "markdown",
   "id": "e481bd80-ca9f-4286-a710-0cba0edb31c8",
   "metadata": {},
   "source": [
    "- 사이킷런에 내장되어 있는 데이터 세트는 일반적으로 dict형태\n",
    "- 이때 key는 data(feature의 데이터 세트),target(레이블 값, 숫자 결과값 데이터 세트),target_names(개별 레이블의 이름), feature_names(feature의 이름), DESCR 데이터 세트에 대한 설명과 각 feature의 설명\n",
    "\n",
    "- 앞에 두 key는 ndarray, 다음 두개는 ndarray 또는 list 그 다음은 str"
   ]
  }
 ],
 "metadata": {
  "kernelspec": {
   "display_name": "Python 3 (ipykernel)",
   "language": "python",
   "name": "python3"
  },
  "language_info": {
   "codemirror_mode": {
    "name": "ipython",
    "version": 3
   },
   "file_extension": ".py",
   "mimetype": "text/x-python",
   "name": "python",
   "nbconvert_exporter": "python",
   "pygments_lexer": "ipython3",
   "version": "3.8.11"
  }
 },
 "nbformat": 4,
 "nbformat_minor": 5
}
